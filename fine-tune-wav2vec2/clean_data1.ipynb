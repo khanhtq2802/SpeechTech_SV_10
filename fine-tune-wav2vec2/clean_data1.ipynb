{
 "cells": [
  {
   "cell_type": "code",
   "execution_count": 1,
   "id": "1ee4bce2",
   "metadata": {},
   "outputs": [
    {
     "name": "stderr",
     "output_type": "stream",
     "text": [
      "Processing audio files: 100%|██████████| 87139/87139 [1:37:53<00:00, 14.84it/s]"
     ]
    },
    {
     "name": "stdout",
     "output_type": "stream",
     "text": [
      "\n",
      "Đã lưu kết quả vào /ASV/src/voice-gender-classifier-result.txt\n"
     ]
    },
    {
     "name": "stderr",
     "output_type": "stream",
     "text": [
      "\n"
     ]
    }
   ],
   "source": [
    "import os\n",
    "import torch\n",
    "from model import ECAPA_gender\n",
    "from tqdm import tqdm\n",
    "\n",
    "# 1. Khởi tạo pipeline diarization với token HF\n",
    "model = ECAPA_gender.from_pretrained(\"JaesungHuh/voice-gender-classifier\")\n",
    "model.eval()\n",
    "device = torch.device(\"cuda\" if torch.cuda.is_available() else \"cpu\")\n",
    "model.to(device)\n",
    "\n",
    "# 2. Thu thập tất cả các file .wav trong các thư mục con\n",
    "root_folder = \"/ASV/dataset/train_eval/data\"\n",
    "wav_files = []\n",
    "for dirpath, _, filenames in os.walk(root_folder):\n",
    "    for fname in filenames:\n",
    "        if fname.lower().endswith(\".wav\"):\n",
    "            wav_files.append(os.path.join(dirpath, fname))\n",
    "wav_files.sort()\n",
    "\n",
    "# 3. Xử lý từng file với tqdm\n",
    "output_path = \"/ASV/src/voice-gender-classifier-result.txt\"\n",
    "with open(output_path, \"w\") as f:\n",
    "    for wav_path in tqdm(wav_files, desc=\"Processing audio files\"):\n",
    "        try:\n",
    "            with torch.no_grad():\n",
    "                output = model.predict(wav_path, device=device)\n",
    "                f.write(f\"{wav_path} {output}\\n\")\n",
    "        except Exception as e:\n",
    "            fname = os.path.basename(wav_path)\n",
    "            print(f\"Lỗi khi xử lý {fname}: {e}\")\n",
    "\n",
    "print(f\"\\nĐã lưu kết quả vào {output_path}\")"
   ]
  }
 ],
 "metadata": {
  "kernelspec": {
   "display_name": "base",
   "language": "python",
   "name": "python3"
  },
  "language_info": {
   "codemirror_mode": {
    "name": "ipython",
    "version": 3
   },
   "file_extension": ".py",
   "mimetype": "text/x-python",
   "name": "python",
   "nbconvert_exporter": "python",
   "pygments_lexer": "ipython3",
   "version": "3.10.13"
  }
 },
 "nbformat": 4,
 "nbformat_minor": 5
}
